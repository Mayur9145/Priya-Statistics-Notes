{
  "nbformat": 4,
  "nbformat_minor": 0,
  "metadata": {
    "colab": {
      "private_outputs": true,
      "provenance": [],
      "authorship_tag": "ABX9TyOA8feBfMG1dvxak42ThwDY",
      "include_colab_link": true
    },
    "kernelspec": {
      "name": "python3",
      "display_name": "Python 3"
    },
    "language_info": {
      "name": "python"
    }
  },
  "cells": [
    {
      "cell_type": "markdown",
      "metadata": {
        "id": "view-in-github",
        "colab_type": "text"
      },
      "source": [
        "<a href=\"https://colab.research.google.com/github/Mayur9145/Priya-Statistics-Notes/blob/main/2ndAssignment.ipynb\" target=\"_parent\"><img src=\"https://colab.research.google.com/assets/colab-badge.svg\" alt=\"Open In Colab\"/></a>"
      ]
    },
    {
      "cell_type": "code",
      "execution_count": null,
      "metadata": {
        "id": "u8bnfaI-ESUV"
      },
      "outputs": [],
      "source": [
        "import numpy as np\n",
        "import matplotlib.pyplot as plt\n",
        "\n",
        "mean = 0\n",
        "std_dev = 1\n",
        "num_samples = 10000\n",
        "\n",
        "data = np.random.normal(mean, std_dev, num_samples)\n",
        "\n",
        "plt.hist(data, bins=50, density=True, alpha=0.6, color='b')\n",
        "\n",
        "plt.title('Histogram of 10,000 Samples from Normal Distribution')\n",
        "plt.xlabel('Value')\n",
        "plt.ylabel('Density')\n",
        "\n",
        "plt.show()\n"
      ]
    },
    {
      "cell_type": "markdown",
      "source": [
        "**Why the Histogram Resembles a Bell Curve**\n",
        "\n",
        "**The histogram forms a bell-shaped curve because:**\n",
        "\n",
        "**Central Limit Theorem**: When sampling from a normal distribution, most values will cluster around the mean, with fewer values occurring as you move further away from the mean in either direction.\n",
        "\n",
        "**Symmetry**: The normal distribution is symmetric around the mean, so the histogram is balanced, with a peak at the center and tapering off on both sides.\n",
        "\n",
        "**Spread (Standard Deviation)**: The standard deviation controls the width of the bell curve. For this distribution, 68% of the data falls between -1 and 1, resulting in the characteristic \"bell\" shape."
      ],
      "metadata": {
        "id": "42QotTQyFRzS"
      }
    }
  ]
}